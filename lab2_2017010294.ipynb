{
 "cells": [
  {
   "cell_type": "code",
   "execution_count": 1,
   "metadata": {},
   "outputs": [],
   "source": [
    "import numpy as np\n",
    "import time"
   ]
  },
  {
   "cell_type": "markdown",
   "metadata": {},
   "source": [
    "#### Se crean los datos de manera aleatoria con mediana de 500 y escala de 30 con 10 millones de datos"
   ]
  },
  {
   "cell_type": "code",
   "execution_count": 30,
   "metadata": {},
   "outputs": [
    {
     "data": {
      "text/plain": [
       "array([ 807.93875494, -533.69645324,  755.58934331, ..., -252.16200801,\n",
       "        130.28750095, -286.20265563])"
      ]
     },
     "execution_count": 30,
     "metadata": {},
     "output_type": "execute_result"
    }
   ],
   "source": [
    "estructura = np.random.normal(loc=500,scale=30,size=10000000)\n",
    "estructura "
   ]
  },
  {
   "cell_type": "code",
   "execution_count": 34,
   "metadata": {},
   "outputs": [
    {
     "name": "stdout",
     "output_type": "stream",
     "text": [
      "La sumatoria los datos menores a 500,000 es 299025315.2916713\n",
      "Duracion: 5.300827503204346 segundos\n"
     ]
    }
   ],
   "source": [
    "start = time.time()\n",
    "sumatoria=[]\n",
    "for i in estructura:\n",
    "    if (i < 500000):\n",
    "        sumatoria.append(i)\n",
    "suma= sum(sumatoria)\n",
    "\n",
    "print ('La sumatoria los datos menores a 500,000 es', suma)\n",
    "print ('Duracion: {} segundos'.format(time.time() - start))"
   ]
  }
 ],
 "metadata": {
  "kernelspec": {
   "display_name": "Python 3",
   "language": "python",
   "name": "python3"
  },
  "language_info": {
   "codemirror_mode": {
    "name": "ipython",
    "version": 3
   },
   "file_extension": ".py",
   "mimetype": "text/x-python",
   "name": "python",
   "nbconvert_exporter": "python",
   "pygments_lexer": "ipython3",
   "version": "3.8.3"
  }
 },
 "nbformat": 4,
 "nbformat_minor": 4
}
