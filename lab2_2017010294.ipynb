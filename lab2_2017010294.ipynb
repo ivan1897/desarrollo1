import numpy as np
import time

estructura = np.random.normal (30,500,100)
estructura
